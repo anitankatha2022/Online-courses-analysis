{
 "cells": [
  {
   "cell_type": "markdown",
   "id": "279ddd6d",
   "metadata": {},
   "source": [
    "# importing libraries"
   ]
  },
  {
   "cell_type": "code",
   "execution_count": 18,
   "id": "79992feb",
   "metadata": {},
   "outputs": [],
   "source": [
    "import pandas as pd\n",
    "import numpy as np\n",
    "import matplotlib.pyplot as plt\n",
    "import seaborn as sns"
   ]
  },
  {
   "cell_type": "markdown",
   "id": "a04780a0",
   "metadata": {},
   "source": [
    "# Loading the dataset"
   ]
  },
  {
   "cell_type": "code",
   "execution_count": 19,
   "id": "b48c503c",
   "metadata": {},
   "outputs": [
    {
     "data": {
      "text/html": [
       "<div>\n",
       "<style scoped>\n",
       "    .dataframe tbody tr th:only-of-type {\n",
       "        vertical-align: middle;\n",
       "    }\n",
       "\n",
       "    .dataframe tbody tr th {\n",
       "        vertical-align: top;\n",
       "    }\n",
       "\n",
       "    .dataframe thead th {\n",
       "        text-align: right;\n",
       "    }\n",
       "</style>\n",
       "<table border=\"1\" class=\"dataframe\">\n",
       "  <thead>\n",
       "    <tr style=\"text-align: right;\">\n",
       "      <th></th>\n",
       "      <th>Name</th>\n",
       "      <th>University</th>\n",
       "      <th>Difficulty Level</th>\n",
       "      <th>Link</th>\n",
       "      <th>About</th>\n",
       "      <th>Course Description</th>\n",
       "    </tr>\n",
       "  </thead>\n",
       "  <tbody>\n",
       "    <tr>\n",
       "      <th>0</th>\n",
       "      <td>How to Learn Online</td>\n",
       "      <td>edX</td>\n",
       "      <td>Beginner</td>\n",
       "      <td>https://www.edx.org/course/how-to-learn-online</td>\n",
       "      <td>Learn essential strategies for successful onli...</td>\n",
       "      <td>Designed for those who are new to elearning, t...</td>\n",
       "    </tr>\n",
       "    <tr>\n",
       "      <th>1</th>\n",
       "      <td>Programming for Everybody (Getting Started wit...</td>\n",
       "      <td>The University of Michigan</td>\n",
       "      <td>Beginner</td>\n",
       "      <td>https://www.edx.org/course/programming-for-eve...</td>\n",
       "      <td>This course is a \"no prerequisite\" introductio...</td>\n",
       "      <td>This course aims to teach everyone the basics ...</td>\n",
       "    </tr>\n",
       "    <tr>\n",
       "      <th>2</th>\n",
       "      <td>CS50's Introduction to Computer Science</td>\n",
       "      <td>Harvard University</td>\n",
       "      <td>Beginner</td>\n",
       "      <td>https://www.edx.org/course/cs50s-introduction-...</td>\n",
       "      <td>An introduction to the intellectual enterprise...</td>\n",
       "      <td>This is CS50x , Harvard University's introduct...</td>\n",
       "    </tr>\n",
       "    <tr>\n",
       "      <th>3</th>\n",
       "      <td>The Analytics Edge</td>\n",
       "      <td>Massachusetts Institute of Technology</td>\n",
       "      <td>Intermediate</td>\n",
       "      <td>https://www.edx.org/course/the-analytics-edge</td>\n",
       "      <td>Through inspiring examples and stories, discov...</td>\n",
       "      <td>In the last decade, the amount of data availab...</td>\n",
       "    </tr>\n",
       "    <tr>\n",
       "      <th>4</th>\n",
       "      <td>Marketing Analytics: Marketing Measurement Str...</td>\n",
       "      <td>University of California, Berkeley</td>\n",
       "      <td>Beginner</td>\n",
       "      <td>https://www.edx.org/course/marketing-analytics...</td>\n",
       "      <td>This course is part of a MicroMasters® Program</td>\n",
       "      <td>Begin your journey in a new career in marketin...</td>\n",
       "    </tr>\n",
       "  </tbody>\n",
       "</table>\n",
       "</div>"
      ],
      "text/plain": [
       "                                                Name  \\\n",
       "0                                How to Learn Online   \n",
       "1  Programming for Everybody (Getting Started wit...   \n",
       "2            CS50's Introduction to Computer Science   \n",
       "3                                 The Analytics Edge   \n",
       "4  Marketing Analytics: Marketing Measurement Str...   \n",
       "\n",
       "                              University Difficulty Level  \\\n",
       "0                                    edX         Beginner   \n",
       "1             The University of Michigan         Beginner   \n",
       "2                     Harvard University         Beginner   \n",
       "3  Massachusetts Institute of Technology     Intermediate   \n",
       "4     University of California, Berkeley         Beginner   \n",
       "\n",
       "                                                Link  \\\n",
       "0     https://www.edx.org/course/how-to-learn-online   \n",
       "1  https://www.edx.org/course/programming-for-eve...   \n",
       "2  https://www.edx.org/course/cs50s-introduction-...   \n",
       "3      https://www.edx.org/course/the-analytics-edge   \n",
       "4  https://www.edx.org/course/marketing-analytics...   \n",
       "\n",
       "                                               About  \\\n",
       "0  Learn essential strategies for successful onli...   \n",
       "1  This course is a \"no prerequisite\" introductio...   \n",
       "2  An introduction to the intellectual enterprise...   \n",
       "3  Through inspiring examples and stories, discov...   \n",
       "4     This course is part of a MicroMasters® Program   \n",
       "\n",
       "                                  Course Description  \n",
       "0  Designed for those who are new to elearning, t...  \n",
       "1  This course aims to teach everyone the basics ...  \n",
       "2  This is CS50x , Harvard University's introduct...  \n",
       "3  In the last decade, the amount of data availab...  \n",
       "4  Begin your journey in a new career in marketin...  "
      ]
     },
     "execution_count": 19,
     "metadata": {},
     "output_type": "execute_result"
    }
   ],
   "source": [
    "data=pd.read_csv('C:\\\\Users\\\\USER\\\\Desktop\\\\EDX\\\\Edx.csv')\n",
    "data.head(5)"
   ]
  },
  {
   "cell_type": "code",
   "execution_count": 20,
   "id": "419575b2",
   "metadata": {},
   "outputs": [
    {
     "name": "stdout",
     "output_type": "stream",
     "text": [
      "<class 'pandas.core.frame.DataFrame'>\n",
      "RangeIndex: 720 entries, 0 to 719\n",
      "Data columns (total 6 columns):\n",
      " #   Column              Non-Null Count  Dtype \n",
      "---  ------              --------------  ----- \n",
      " 0   Name                720 non-null    object\n",
      " 1   University          720 non-null    object\n",
      " 2   Difficulty Level    720 non-null    object\n",
      " 3   Link                720 non-null    object\n",
      " 4   About               720 non-null    object\n",
      " 5   Course Description  720 non-null    object\n",
      "dtypes: object(6)\n",
      "memory usage: 33.9+ KB\n"
     ]
    }
   ],
   "source": [
    "data.info()"
   ]
  },
  {
   "cell_type": "code",
   "execution_count": 21,
   "id": "06819272",
   "metadata": {},
   "outputs": [
    {
     "data": {
      "text/html": [
       "<div>\n",
       "<style scoped>\n",
       "    .dataframe tbody tr th:only-of-type {\n",
       "        vertical-align: middle;\n",
       "    }\n",
       "\n",
       "    .dataframe tbody tr th {\n",
       "        vertical-align: top;\n",
       "    }\n",
       "\n",
       "    .dataframe thead th {\n",
       "        text-align: right;\n",
       "    }\n",
       "</style>\n",
       "<table border=\"1\" class=\"dataframe\">\n",
       "  <thead>\n",
       "    <tr style=\"text-align: right;\">\n",
       "      <th></th>\n",
       "      <th>count</th>\n",
       "      <th>unique</th>\n",
       "      <th>top</th>\n",
       "      <th>freq</th>\n",
       "    </tr>\n",
       "  </thead>\n",
       "  <tbody>\n",
       "    <tr>\n",
       "      <th>Name</th>\n",
       "      <td>720</td>\n",
       "      <td>717</td>\n",
       "      <td>Introduction to Marketing</td>\n",
       "      <td>2</td>\n",
       "    </tr>\n",
       "    <tr>\n",
       "      <th>University</th>\n",
       "      <td>720</td>\n",
       "      <td>102</td>\n",
       "      <td>Harvard University</td>\n",
       "      <td>91</td>\n",
       "    </tr>\n",
       "    <tr>\n",
       "      <th>Difficulty Level</th>\n",
       "      <td>720</td>\n",
       "      <td>3</td>\n",
       "      <td>Beginner</td>\n",
       "      <td>437</td>\n",
       "    </tr>\n",
       "    <tr>\n",
       "      <th>Link</th>\n",
       "      <td>720</td>\n",
       "      <td>719</td>\n",
       "      <td>https://www.edx.org/course/introduction-to-pro...</td>\n",
       "      <td>2</td>\n",
       "    </tr>\n",
       "    <tr>\n",
       "      <th>About</th>\n",
       "      <td>720</td>\n",
       "      <td>698</td>\n",
       "      <td>This course is part of a MicroMasters® Program</td>\n",
       "      <td>15</td>\n",
       "    </tr>\n",
       "    <tr>\n",
       "      <th>Course Description</th>\n",
       "      <td>720</td>\n",
       "      <td>717</td>\n",
       "      <td>About the Database Series of Courses\"Databases...</td>\n",
       "      <td>3</td>\n",
       "    </tr>\n",
       "  </tbody>\n",
       "</table>\n",
       "</div>"
      ],
      "text/plain": [
       "                   count unique  \\\n",
       "Name                 720    717   \n",
       "University           720    102   \n",
       "Difficulty Level     720      3   \n",
       "Link                 720    719   \n",
       "About                720    698   \n",
       "Course Description   720    717   \n",
       "\n",
       "                                                                  top freq  \n",
       "Name                                        Introduction to Marketing    2  \n",
       "University                                         Harvard University   91  \n",
       "Difficulty Level                                             Beginner  437  \n",
       "Link                https://www.edx.org/course/introduction-to-pro...    2  \n",
       "About                  This course is part of a MicroMasters® Program   15  \n",
       "Course Description  About the Database Series of Courses\"Databases...    3  "
      ]
     },
     "execution_count": 21,
     "metadata": {},
     "output_type": "execute_result"
    }
   ],
   "source": [
    "data.describe().T"
   ]
  },
  {
   "cell_type": "code",
   "execution_count": 22,
   "id": "f2609c9a",
   "metadata": {},
   "outputs": [
    {
     "data": {
      "text/plain": [
       "(720, 6)"
      ]
     },
     "execution_count": 22,
     "metadata": {},
     "output_type": "execute_result"
    }
   ],
   "source": [
    "data.shape"
   ]
  },
  {
   "cell_type": "code",
   "execution_count": 23,
   "id": "fa6a84ce",
   "metadata": {},
   "outputs": [
    {
     "data": {
      "text/plain": [
       "1"
      ]
     },
     "execution_count": 23,
     "metadata": {},
     "output_type": "execute_result"
    }
   ],
   "source": [
    "#checking for duplicates\n",
    "data.duplicated().sum()"
   ]
  },
  {
   "cell_type": "code",
   "execution_count": 24,
   "id": "f22b699e",
   "metadata": {},
   "outputs": [],
   "source": [
    "#dropping the duplicate\n",
    "data.drop_duplicates(inplace = True)"
   ]
  },
  {
   "cell_type": "code",
   "execution_count": 25,
   "id": "532d0a2d",
   "metadata": {},
   "outputs": [],
   "source": [
    "data.reset_index(drop = True, inplace = True)"
   ]
  },
  {
   "cell_type": "code",
   "execution_count": 26,
   "id": "f17bc579",
   "metadata": {},
   "outputs": [
    {
     "data": {
      "text/html": [
       "<div>\n",
       "<style scoped>\n",
       "    .dataframe tbody tr th:only-of-type {\n",
       "        vertical-align: middle;\n",
       "    }\n",
       "\n",
       "    .dataframe tbody tr th {\n",
       "        vertical-align: top;\n",
       "    }\n",
       "\n",
       "    .dataframe thead th {\n",
       "        text-align: right;\n",
       "    }\n",
       "</style>\n",
       "<table border=\"1\" class=\"dataframe\">\n",
       "  <thead>\n",
       "    <tr style=\"text-align: right;\">\n",
       "      <th></th>\n",
       "      <th>Name</th>\n",
       "      <th>University</th>\n",
       "      <th>Difficulty Level</th>\n",
       "      <th>About</th>\n",
       "      <th>Course Description</th>\n",
       "    </tr>\n",
       "  </thead>\n",
       "  <tbody>\n",
       "    <tr>\n",
       "      <th>717</th>\n",
       "      <td>Cities and the Challenge of Sustainable Develo...</td>\n",
       "      <td>SDG Academy</td>\n",
       "      <td>Beginner</td>\n",
       "      <td>What is a sustainable city? Learn the basics h...</td>\n",
       "      <td>According to the United Nations, urbanization ...</td>\n",
       "    </tr>\n",
       "    <tr>\n",
       "      <th>718</th>\n",
       "      <td>MathTrackX: Special Functions</td>\n",
       "      <td>University of Adelaide</td>\n",
       "      <td>Beginner</td>\n",
       "      <td>Understand trigonometric, exponential and loga...</td>\n",
       "      <td>This course is part two of the MathTrackX XSer...</td>\n",
       "    </tr>\n",
       "  </tbody>\n",
       "</table>\n",
       "</div>"
      ],
      "text/plain": [
       "                                                  Name  \\\n",
       "717  Cities and the Challenge of Sustainable Develo...   \n",
       "718                      MathTrackX: Special Functions   \n",
       "\n",
       "                 University Difficulty Level  \\\n",
       "717             SDG Academy         Beginner   \n",
       "718  University of Adelaide         Beginner   \n",
       "\n",
       "                                                 About  \\\n",
       "717  What is a sustainable city? Learn the basics h...   \n",
       "718  Understand trigonometric, exponential and loga...   \n",
       "\n",
       "                                    Course Description  \n",
       "717  According to the United Nations, urbanization ...  \n",
       "718  This course is part two of the MathTrackX XSer...  "
      ]
     },
     "execution_count": 26,
     "metadata": {},
     "output_type": "execute_result"
    }
   ],
   "source": [
    "#drop the link column\n",
    "data.drop(columns=['Link'], axis=0 ,inplace = True)\n",
    "data.tail(2)"
   ]
  },
  {
   "cell_type": "markdown",
   "id": "cd6c6b6e",
   "metadata": {},
   "source": [
    "# Preprocessing of  data"
   ]
  },
  {
   "cell_type": "code",
   "execution_count": 27,
   "id": "3c038b89",
   "metadata": {},
   "outputs": [
    {
     "data": {
      "text/plain": [
       "Name                  0\n",
       "University            0\n",
       "Difficulty Level      0\n",
       "About                 0\n",
       "Course Description    0\n",
       "dtype: int64"
      ]
     },
     "execution_count": 27,
     "metadata": {},
     "output_type": "execute_result"
    }
   ],
   "source": [
    "data.isnull().sum()"
   ]
  },
  {
   "cell_type": "markdown",
   "id": "382e793b",
   "metadata": {},
   "source": [
    "# Exploratory Data Analysis"
   ]
  },
  {
   "cell_type": "code",
   "execution_count": 28,
   "id": "c25a3ae4",
   "metadata": {},
   "outputs": [
    {
     "name": "stdout",
     "output_type": "stream",
     "text": [
      "Beginner Level\t\t 437\n",
      "Intermediate Level\t 204\n",
      "Advanced Level\t\t 78\n"
     ]
    }
   ],
   "source": [
    "print(f\"Beginner Level\\t\\t {data['Difficulty Level'].value_counts().values[0]}\\nIntermediate Level\\t {data['Difficulty Level'].value_counts().values[1]}\\nAdvanced Level\\t\\t {data['Difficulty Level'].value_counts().values[2]}\")"
   ]
  },
  {
   "cell_type": "code",
   "execution_count": 29,
   "id": "801ab4d5",
   "metadata": {},
   "outputs": [
    {
     "data": {
      "text/plain": [
       "Text(0.5, 1.0, 'Difficulty Level')"
      ]
     },
     "execution_count": 29,
     "metadata": {},
     "output_type": "execute_result"
    },
    {
     "data": {
      "image/png": "[encoded data removed]",
      "text/plain": [
       "<Figure size 432x288 with 1 Axes>"
      ]
     },
     "metadata": {},
     "output_type": "display_data"
    }
   ],
   "source": [
    "#Percentage of passengers that survived and not survived\n",
    "plt.figure(figsize = (6,4))\n",
    "label = data['Difficulty Level'].value_counts().index\n",
    "palette = sns.color_palette('flare')\n",
    "explode = [0, 0, 0.1]\n",
    "plt.pie(x = data['Difficulty Level'].value_counts().values, labels = label, colors = palette, explode = explode, autopct = '%.0f%%')\n",
    "plt.title('Difficulty Level', fontsize = 10)"
   ]
  },
  {
   "cell_type": "code",
   "execution_count": 30,
   "id": "06a0bb01",
   "metadata": {},
   "outputs": [
    {
     "name": "stdout",
     "output_type": "stream",
     "text": [
      "Harvard University is the university with highest number of courses - 90 courses.\n"
     ]
    }
   ],
   "source": [
    "#The university or industry partners with highest number of courses\n",
    "print(f\"{data.University.value_counts().index[0]} is the university with highest number of courses - {data.University.value_counts().values[0]} courses.\") "
   ]
  },
  {
   "cell_type": "code",
   "execution_count": 31,
   "id": "9bebf719",
   "metadata": {},
   "outputs": [
    {
     "data": {
      "text/plain": [
       "Index(['Harvard University', 'Massachusetts Institute of Technology',\n",
       "       'Delft University of Technology', 'The University of Queensland',\n",
       "       'IBM'],\n",
       "      dtype='object')"
      ]
     },
     "execution_count": 31,
     "metadata": {},
     "output_type": "execute_result"
    }
   ],
   "source": [
    "top_5 = data.University.value_counts()[ : 5].index\n",
    "top_5"
   ]
  },
  {
   "cell_type": "code",
   "execution_count": 32,
   "id": "45c41733",
   "metadata": {},
   "outputs": [
    {
     "data": {
      "image/png": "[encoded data removed]",
      "text/plain": [
       "<Figure size 432x288 with 1 Axes>"
      ]
     },
     "metadata": {
      "needs_background": "light"
     },
     "output_type": "display_data"
    }
   ],
   "source": [
    "ax = sns.barplot(x = data.University.value_counts()[ : 10].index, y = data.University.value_counts()[ : 10].values, palette = 'flare_r')\n",
    "plt.title('Top 10 univertities/industry partners', fontsize = 10)\n",
    "plt.xlabel('University/Industry Partners')\n",
    "plt.ylabel('Number of courses')\n",
    "plt.xticks(rotation = 90)\n",
    "for i in ax.containers:\n",
    "    ax.bar_label(i,)"
   ]
  },
  {
   "cell_type": "code",
   "execution_count": 33,
   "id": "f5532ba0",
   "metadata": {},
   "outputs": [],
   "source": [
    "top5 = ['Harvard University', 'Massachusetts Institute of Technology',\n",
    "       'Delft University of Technology', 'The University of Queensland',\n",
    "       'IBM']\n",
    "top5_University = data[data.University.isin(top5)]"
   ]
  },
  {
   "cell_type": "code",
   "execution_count": 34,
   "id": "4d51cd93",
   "metadata": {},
   "outputs": [
    {
     "data": {
      "text/plain": [
       "2                         Harvard University\n",
       "3      Massachusetts Institute of Technology\n",
       "6               The University of Queensland\n",
       "10                        Harvard University\n",
       "12              The University of Queensland\n",
       "                       ...                  \n",
       "696    Massachusetts Institute of Technology\n",
       "700             The University of Queensland\n",
       "702                       Harvard University\n",
       "709                                      IBM\n",
       "714                       Harvard University\n",
       "Name: University, Length: 205, dtype: object"
      ]
     },
     "execution_count": 34,
     "metadata": {},
     "output_type": "execute_result"
    }
   ],
   "source": [
    "top5_University.University"
   ]
  },
  {
   "cell_type": "code",
   "execution_count": 35,
   "id": "1392f6f1",
   "metadata": {},
   "outputs": [
    {
     "data": {
      "image/png": "[encoded data removed]",
      "text/plain": [
       "<Figure size 720x432 with 1 Axes>"
      ]
     },
     "metadata": {
      "needs_background": "light"
     },
     "output_type": "display_data"
    }
   ],
   "source": [
    "plt.figure(figsize = (10,6))\n",
    "ax = sns.countplot(x = top5_University.University, hue = top5_University['Difficulty Level'], palette = 'flare')\n",
    "plt.xticks(rotation = 90)\n",
    "plt.title('Difficulty level of courses of the Top 5 universities/industry partners', fontsize = 10)\n",
    "plt.xlabel('University/Industry Partners')\n",
    "plt.ylabel('Number of courses')\n",
    "for i in ax.containers:\n",
    "    ax.bar_label(i,)"
   ]
  },
  {
   "cell_type": "code",
   "execution_count": 36,
   "id": "26123650",
   "metadata": {},
   "outputs": [
    {
     "data": {
      "text/html": [
       "<div>\n",
       "<style scoped>\n",
       "    .dataframe tbody tr th:only-of-type {\n",
       "        vertical-align: middle;\n",
       "    }\n",
       "\n",
       "    .dataframe tbody tr th {\n",
       "        vertical-align: top;\n",
       "    }\n",
       "\n",
       "    .dataframe thead th {\n",
       "        text-align: right;\n",
       "    }\n",
       "</style>\n",
       "<table border=\"1\" class=\"dataframe\">\n",
       "  <thead>\n",
       "    <tr style=\"text-align: right;\">\n",
       "      <th></th>\n",
       "      <th>Name</th>\n",
       "      <th>About</th>\n",
       "      <th>Course Description</th>\n",
       "      <th>Description</th>\n",
       "    </tr>\n",
       "  </thead>\n",
       "  <tbody>\n",
       "    <tr>\n",
       "      <th>0</th>\n",
       "      <td>How to Learn Online</td>\n",
       "      <td>Learn essential strategies for successful onli...</td>\n",
       "      <td>Designed for those who are new to elearning, t...</td>\n",
       "      <td>How to Learn Online Learn essential strategies...</td>\n",
       "    </tr>\n",
       "    <tr>\n",
       "      <th>1</th>\n",
       "      <td>Programming for Everybody (Getting Started wit...</td>\n",
       "      <td>This course is a \"no prerequisite\" introductio...</td>\n",
       "      <td>This course aims to teach everyone the basics ...</td>\n",
       "      <td>Programming for Everybody (Getting Started wit...</td>\n",
       "    </tr>\n",
       "    <tr>\n",
       "      <th>2</th>\n",
       "      <td>CS50's Introduction to Computer Science</td>\n",
       "      <td>An introduction to the intellectual enterprise...</td>\n",
       "      <td>This is CS50x , Harvard University's introduct...</td>\n",
       "      <td>CS50's Introduction to Computer Science An int...</td>\n",
       "    </tr>\n",
       "    <tr>\n",
       "      <th>3</th>\n",
       "      <td>The Analytics Edge</td>\n",
       "      <td>Through inspiring examples and stories, discov...</td>\n",
       "      <td>In the last decade, the amount of data availab...</td>\n",
       "      <td>The Analytics Edge Through inspiring examples ...</td>\n",
       "    </tr>\n",
       "    <tr>\n",
       "      <th>4</th>\n",
       "      <td>Marketing Analytics: Marketing Measurement Str...</td>\n",
       "      <td>This course is part of a MicroMasters® Program</td>\n",
       "      <td>Begin your journey in a new career in marketin...</td>\n",
       "      <td>Marketing Analytics: Marketing Measurement Str...</td>\n",
       "    </tr>\n",
       "  </tbody>\n",
       "</table>\n",
       "</div>"
      ],
      "text/plain": [
       "                                                Name  \\\n",
       "0                                How to Learn Online   \n",
       "1  Programming for Everybody (Getting Started wit...   \n",
       "2            CS50's Introduction to Computer Science   \n",
       "3                                 The Analytics Edge   \n",
       "4  Marketing Analytics: Marketing Measurement Str...   \n",
       "\n",
       "                                               About  \\\n",
       "0  Learn essential strategies for successful onli...   \n",
       "1  This course is a \"no prerequisite\" introductio...   \n",
       "2  An introduction to the intellectual enterprise...   \n",
       "3  Through inspiring examples and stories, discov...   \n",
       "4     This course is part of a MicroMasters® Program   \n",
       "\n",
       "                                  Course Description  \\\n",
       "0  Designed for those who are new to elearning, t...   \n",
       "1  This course aims to teach everyone the basics ...   \n",
       "2  This is CS50x , Harvard University's introduct...   \n",
       "3  In the last decade, the amount of data availab...   \n",
       "4  Begin your journey in a new career in marketin...   \n",
       "\n",
       "                                         Description  \n",
       "0  How to Learn Online Learn essential strategies...  \n",
       "1  Programming for Everybody (Getting Started wit...  \n",
       "2  CS50's Introduction to Computer Science An int...  \n",
       "3  The Analytics Edge Through inspiring examples ...  \n",
       "4  Marketing Analytics: Marketing Measurement Str...  "
      ]
     },
     "execution_count": 36,
     "metadata": {},
     "output_type": "execute_result"
    }
   ],
   "source": [
    "data.drop(columns = [\"University\", \"Difficulty Level\"], axis =1, inplace = True)\n",
    "df = data.copy()\n",
    "data['Description'] = data['Name'] + ' ' + data['About'] + ' ' + data['Course Description']\n",
    "data.head(5)"
   ]
  },
  {
   "cell_type": "code",
   "execution_count": 40,
   "id": "f49f0705",
   "metadata": {},
   "outputs": [],
   "source": [
    "#importing the dependencies needed for pre processing\n",
    "import re\n",
    "from nltk.corpus import stopwords\n",
    "from nltk.tokenize import word_tokenize\n",
    "from nltk.stem import PorterStemmer\n",
    "from nltk.stem import WordNetLemmatizer"
   ]
  },
  {
   "cell_type": "code",
   "execution_count": 47,
   "id": "752ec9b8",
   "metadata": {},
   "outputs": [],
   "source": [
    "lemma = WordNetLemmatizer()"
   ]
  },
  {
   "cell_type": "code",
   "execution_count": 48,
   "id": "460d7b2a",
   "metadata": {},
   "outputs": [],
   "source": [
    "#define a function for preprocessing\n",
    "def clean(text):\n",
    "    text = re.sub(\"[^A-Za-z1-9 ]\", \"\", text) #removes punctuation marks\n",
    "    text = text.lower() #changes to lower case\n",
    "    tokens = word_tokenize(text) #tokenize the text\n",
    "    clean_list = [] \n",
    "    for token in tokens:\n",
    "        if token not in en_stopwords: #removes stopwords\n",
    "            clean_list.append(lemma.lemmatize(token)) #lemmatizing and appends to clean_list\n",
    "    return \" \".join(clean_list)"
   ]
  },
  {
   "cell_type": "code",
   "execution_count": 52,
   "id": "122e0ea5",
   "metadata": {},
   "outputs": [],
   "source": [
    "from sklearn.feature_extraction.text import TfidfVectorizer"
   ]
  },
  {
   "cell_type": "code",
   "execution_count": 53,
   "id": "8ee426c0",
   "metadata": {},
   "outputs": [],
   "source": [
    "vectorizer = TfidfVectorizer()"
   ]
  },
  {
   "cell_type": "code",
   "execution_count": 54,
   "id": "52d056d1",
   "metadata": {},
   "outputs": [],
   "source": [
    "test_matrix = vectorizer.fit_transform(data['Description'])"
   ]
  },
  {
   "cell_type": "code",
   "execution_count": 55,
   "id": "cd005b76",
   "metadata": {},
   "outputs": [],
   "source": [
    "from sklearn.metrics.pairwise import cosine_similarity"
   ]
  },
  {
   "cell_type": "code",
   "execution_count": 56,
   "id": "47faaac9",
   "metadata": {},
   "outputs": [],
   "source": [
    "def Recommendation_Cosine_similarity(matrix, row_num):\n",
    "    similarity = cosine_similarity(test_matrix)\n",
    "    similar_courses = list(enumerate(similarity[row_num]))\n",
    "    sorted_similar_courses = sorted(similar_courses, key=lambda x:x[1], reverse= True)[:6]#the first element is the course being viewed\n",
    "#This part will return the description of the recommended courses\n",
    "    i = 0\n",
    "    for item in sorted_similar_courses:\n",
    "        course_description = data[data.index == item[0]][\"Name\"].values[0]\n",
    "        recommendations = print(f\"{i+1}\\t{course_description}\\n\")\n",
    "        i = i + 1\n",
    "    return recommendations"
   ]
  },
  {
   "cell_type": "code",
   "execution_count": 57,
   "id": "44bd0459",
   "metadata": {},
   "outputs": [
    {
     "name": "stdout",
     "output_type": "stream",
     "text": [
      "1\tThe Analytics Edge\n",
      "\n",
      "2\tIntroduction to Data Analytics for Managers\n",
      "\n",
      "3\tData for Effective Policy Making\n",
      "\n",
      "4\tAnalytics for Decision Making\n",
      "\n",
      "5\tThe Power of Data\n",
      "\n",
      "6\tStatistics and R\n",
      "\n"
     ]
    }
   ],
   "source": [
    "Recommendation_Cosine_similarity(test_matrix, 3)"
   ]
  },
  {
   "cell_type": "code",
   "execution_count": null,
   "id": "95d8e326",
   "metadata": {},
   "outputs": [],
   "source": []
  },
  {
   "cell_type": "code",
   "execution_count": null,
   "id": "95a2776b",
   "metadata": {},
   "outputs": [],
   "source": []
  },
  {
   "cell_type": "code",
   "execution_count": null,
   "id": "5ea59a1f",
   "metadata": {},
   "outputs": [],
   "source": []
  },
  {
   "cell_type": "code",
   "execution_count": null,
   "id": "12e51974",
   "metadata": {},
   "outputs": [],
   "source": []
  },
  {
   "cell_type": "code",
   "execution_count": null,
   "id": "ecad7a07",
   "metadata": {},
   "outputs": [],
   "source": []
  }
 ],
 "metadata": {
  "kernelspec": {
   "display_name": "Python 3 (ipykernel)",
   "language": "python",
   "name": "python3"
  },
  "language_info": {
   "codemirror_mode": {
    "name": "ipython",
    "version": 3
   },
   "file_extension": ".py",
   "mimetype": "text/x-python",
   "name": "python",
   "nbconvert_exporter": "python",
   "pygments_lexer": "ipython3",
   "version": "3.9.12"
  }
 },
 "nbformat": 4,
 "nbformat_minor": 5
}
